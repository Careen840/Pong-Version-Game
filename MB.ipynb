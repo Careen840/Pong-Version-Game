{
 "cells": [
  {
   "cell_type": "code",
   "execution_count": 21,
   "metadata": {},
   "outputs": [],
   "source": [
    "import pandas as pd\n",
    "import numpy as np \n",
    "import matplotlib.pyplot as plt\n",
    "import seaborn as sns\n",
    "\n"
   ]
  },
  {
   "cell_type": "code",
   "execution_count": 22,
   "metadata": {},
   "outputs": [
    {
     "name": "stdout",
     "output_type": "stream",
     "text": [
      "Windows-1252\n"
     ]
    }
   ],
   "source": [
    "import chardet\n",
    "\n",
    "with open('Prescription_UK.csv', 'rb') as f:\n",
    "    result = chardet.detect(f.read())\n",
    "\n",
    "print(result['encoding'])\n"
   ]
  },
  {
   "cell_type": "code",
   "execution_count": 23,
   "metadata": {},
   "outputs": [
    {
     "name": "stdout",
     "output_type": "stream",
     "text": [
      "             Period Name Prescriber Code           Prescriber Name  BNF Code  \\\n",
      "0  3rd Quarter 2012/2013           5HG00  PCT ASHTON,LEIGH & WIGAN      2001   \n",
      "1  3rd Quarter 2012/2013           5HG00  PCT ASHTON,LEIGH & WIGAN      1906   \n",
      "2  3rd Quarter 2012/2013           5HG00  PCT ASHTON,LEIGH & WIGAN      1306   \n",
      "3  3rd Quarter 2012/2013           5HG00  PCT ASHTON,LEIGH & WIGAN       104   \n",
      "4  3rd Quarter 2012/2013           5HG00  PCT ASHTON,LEIGH & WIGAN      2310   \n",
      "\n",
      "                             BNF Name Total Items Total Act Cost   Total Nic  \n",
      "0                   Absorbent Cottons          12         œ65.71      œ71.13  \n",
      "1                               Acids          41        œ137.78     œ145.03  \n",
      "2                    Acne and Rosacea       2,828     œ32,736.68  œ35,466.07  \n",
      "3                     Acute Diarrhoea       3,047     œ10,590.14  œ11,304.41  \n",
      "4  Adhesive (Pastes/Sprays/Solutions)           1         œ14.97      œ16.23  \n",
      "<class 'pandas.core.frame.DataFrame'>\n",
      "RangeIndex: 26401 entries, 0 to 26400\n",
      "Data columns (total 8 columns):\n",
      " #   Column           Non-Null Count  Dtype \n",
      "---  ------           --------------  ----- \n",
      " 0   Period Name      26401 non-null  object\n",
      " 1   Prescriber Code  26220 non-null  object\n",
      " 2   Prescriber Name  26401 non-null  object\n",
      " 3   BNF Code         26401 non-null  int64 \n",
      " 4   BNF Name         26401 non-null  object\n",
      " 5   Total Items      26401 non-null  object\n",
      " 6   Total Act Cost   26401 non-null  object\n",
      " 7   Total Nic        26401 non-null  object\n",
      "dtypes: int64(1), object(7)\n",
      "memory usage: 1.6+ MB\n",
      "None\n"
     ]
    }
   ],
   "source": [
    "\n",
    "\n",
    "# Load data with the correct encoding and print the first five rows\n",
    "prescription = pd.read_csv(\"Prescription_UK.csv\", encoding='Windows-1252')\n",
    "print(prescription.head())\n",
    "\n",
    "#Print the data information\n",
    "print(prescription.info())\n"
   ]
  },
  {
   "cell_type": "code",
   "execution_count": 24,
   "metadata": {},
   "outputs": [
    {
     "data": {
      "text/html": [
       "<div>\n",
       "<style scoped>\n",
       "    .dataframe tbody tr th:only-of-type {\n",
       "        vertical-align: middle;\n",
       "    }\n",
       "\n",
       "    .dataframe tbody tr th {\n",
       "        vertical-align: top;\n",
       "    }\n",
       "\n",
       "    .dataframe thead th {\n",
       "        text-align: right;\n",
       "    }\n",
       "</style>\n",
       "<table border=\"1\" class=\"dataframe\">\n",
       "  <thead>\n",
       "    <tr style=\"text-align: right;\">\n",
       "      <th></th>\n",
       "      <th>Prescriber Code</th>\n",
       "    </tr>\n",
       "  </thead>\n",
       "  <tbody>\n",
       "    <tr>\n",
       "      <th>23601</th>\n",
       "      <td>NaN</td>\n",
       "    </tr>\n",
       "    <tr>\n",
       "      <th>23602</th>\n",
       "      <td>NaN</td>\n",
       "    </tr>\n",
       "    <tr>\n",
       "      <th>23603</th>\n",
       "      <td>NaN</td>\n",
       "    </tr>\n",
       "    <tr>\n",
       "      <th>23604</th>\n",
       "      <td>NaN</td>\n",
       "    </tr>\n",
       "    <tr>\n",
       "      <th>23605</th>\n",
       "      <td>NaN</td>\n",
       "    </tr>\n",
       "    <tr>\n",
       "      <th>...</th>\n",
       "      <td>...</td>\n",
       "    </tr>\n",
       "    <tr>\n",
       "      <th>23777</th>\n",
       "      <td>NaN</td>\n",
       "    </tr>\n",
       "    <tr>\n",
       "      <th>23778</th>\n",
       "      <td>NaN</td>\n",
       "    </tr>\n",
       "    <tr>\n",
       "      <th>23779</th>\n",
       "      <td>NaN</td>\n",
       "    </tr>\n",
       "    <tr>\n",
       "      <th>23780</th>\n",
       "      <td>NaN</td>\n",
       "    </tr>\n",
       "    <tr>\n",
       "      <th>23781</th>\n",
       "      <td>NaN</td>\n",
       "    </tr>\n",
       "  </tbody>\n",
       "</table>\n",
       "<p>181 rows × 1 columns</p>\n",
       "</div>"
      ],
      "text/plain": [
       "      Prescriber Code\n",
       "23601             NaN\n",
       "23602             NaN\n",
       "23603             NaN\n",
       "23604             NaN\n",
       "23605             NaN\n",
       "...               ...\n",
       "23777             NaN\n",
       "23778             NaN\n",
       "23779             NaN\n",
       "23780             NaN\n",
       "23781             NaN\n",
       "\n",
       "[181 rows x 1 columns]"
      ]
     },
     "execution_count": 24,
     "metadata": {},
     "output_type": "execute_result"
    }
   ],
   "source": [
    "# Check for Null values and count them\n",
    "\n",
    "missing_cols, missing_rows = ((prescription.isnull().sum(x) | prescription.eq('').sum(x)).loc[lambda x: x.gt(0)].index\n",
    "                              for x in (0, 1))\n",
    "\n",
    "prescription.loc[missing_rows, missing_cols]"
   ]
  },
  {
   "cell_type": "code",
   "execution_count": 25,
   "metadata": {},
   "outputs": [],
   "source": [
    "# Check for outliers and data inconsistencies \n",
    " #Boxplot for a specific numerical column\n",
    "sns.boxplot(x=prescription['Total Act Cost'])\n",
    "plt.show()\n",
    "\n",
    "\n",
    "from scipy.stats import zscore\n",
    "\n",
    "# Calculate z-scores for a numerical column\n",
    "z_scores = zscore(prescription['Total Act Cost'])\n",
    "\n",
    "# Identify outliers based on a threshold (e.g., 3 standard deviations)\n",
    "outliers = (abs(z_scores) > 3)\n",
    "\n",
    "# Display the results\n",
    "print(\"Outliers:\")\n",
    "print(prescription[outliers])"
   ]
  }
 ],
 "metadata": {
  "kernelspec": {
   "display_name": "Python 3",
   "language": "python",
   "name": "python3"
  },
  "language_info": {
   "codemirror_mode": {
    "name": "ipython",
    "version": 3
   },
   "file_extension": ".py",
   "mimetype": "text/x-python",
   "name": "python",
   "nbconvert_exporter": "python",
   "pygments_lexer": "ipython3",
   "version": "3.12.1"
  }
 },
 "nbformat": 4,
 "nbformat_minor": 2
}
